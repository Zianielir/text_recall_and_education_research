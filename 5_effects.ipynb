{
 "cells": [
  {
   "cell_type": "markdown",
   "id": "9af78595",
   "metadata": {},
   "source": [
    "### Библиотеки"
   ]
  },
  {
   "cell_type": "code",
   "execution_count": 193,
   "id": "a1c488c2",
   "metadata": {},
   "outputs": [],
   "source": [
    "import pandas as pd\n",
    "import numpy as np\n",
    "\n",
    "import matplotlib.pyplot as plt\n",
    "import seaborn as sns\n",
    "\n",
    "import scipy.stats as sts\n",
    "import statsmodels.api as sm\n",
    "import statsmodels.formula.api as smf"
   ]
  },
  {
   "cell_type": "markdown",
   "id": "0ea7fd42",
   "metadata": {},
   "source": [
    "### Данные"
   ]
  },
  {
   "cell_type": "code",
   "execution_count": 194,
   "id": "34ea5907",
   "metadata": {},
   "outputs": [
    {
     "data": {
      "text/html": [
       "<div>\n",
       "<style scoped>\n",
       "    .dataframe tbody tr th:only-of-type {\n",
       "        vertical-align: middle;\n",
       "    }\n",
       "\n",
       "    .dataframe tbody tr th {\n",
       "        vertical-align: top;\n",
       "    }\n",
       "\n",
       "    .dataframe thead th {\n",
       "        text-align: right;\n",
       "    }\n",
       "</style>\n",
       "<table border=\"1\" class=\"dataframe\">\n",
       "  <thead>\n",
       "    <tr style=\"text-align: right;\">\n",
       "      <th></th>\n",
       "      <th>recall_score</th>\n",
       "      <th>higher_edu</th>\n",
       "      <th>far_from_uni</th>\n",
       "      <th>adhd</th>\n",
       "      <th>low_focus</th>\n",
       "      <th>text_complexity</th>\n",
       "      <th>age</th>\n",
       "      <th>reads_often</th>\n",
       "      <th>not_tired</th>\n",
       "    </tr>\n",
       "  </thead>\n",
       "  <tbody>\n",
       "    <tr>\n",
       "      <th>0</th>\n",
       "      <td>49.901149</td>\n",
       "      <td>0</td>\n",
       "      <td>0</td>\n",
       "      <td>0</td>\n",
       "      <td>1</td>\n",
       "      <td>79.875422</td>\n",
       "      <td>33</td>\n",
       "      <td>1</td>\n",
       "      <td>0</td>\n",
       "    </tr>\n",
       "    <tr>\n",
       "      <th>1</th>\n",
       "      <td>45.694396</td>\n",
       "      <td>0</td>\n",
       "      <td>1</td>\n",
       "      <td>0</td>\n",
       "      <td>0</td>\n",
       "      <td>57.942067</td>\n",
       "      <td>27</td>\n",
       "      <td>0</td>\n",
       "      <td>0</td>\n",
       "    </tr>\n",
       "    <tr>\n",
       "      <th>2</th>\n",
       "      <td>43.077346</td>\n",
       "      <td>0</td>\n",
       "      <td>0</td>\n",
       "      <td>0</td>\n",
       "      <td>0</td>\n",
       "      <td>35.177133</td>\n",
       "      <td>25</td>\n",
       "      <td>0</td>\n",
       "      <td>1</td>\n",
       "    </tr>\n",
       "    <tr>\n",
       "      <th>3</th>\n",
       "      <td>46.803464</td>\n",
       "      <td>0</td>\n",
       "      <td>0</td>\n",
       "      <td>0</td>\n",
       "      <td>0</td>\n",
       "      <td>31.642170</td>\n",
       "      <td>27</td>\n",
       "      <td>1</td>\n",
       "      <td>1</td>\n",
       "    </tr>\n",
       "    <tr>\n",
       "      <th>4</th>\n",
       "      <td>61.015147</td>\n",
       "      <td>0</td>\n",
       "      <td>1</td>\n",
       "      <td>0</td>\n",
       "      <td>0</td>\n",
       "      <td>78.800936</td>\n",
       "      <td>38</td>\n",
       "      <td>1</td>\n",
       "      <td>1</td>\n",
       "    </tr>\n",
       "    <tr>\n",
       "      <th>...</th>\n",
       "      <td>...</td>\n",
       "      <td>...</td>\n",
       "      <td>...</td>\n",
       "      <td>...</td>\n",
       "      <td>...</td>\n",
       "      <td>...</td>\n",
       "      <td>...</td>\n",
       "      <td>...</td>\n",
       "      <td>...</td>\n",
       "    </tr>\n",
       "    <tr>\n",
       "      <th>4995</th>\n",
       "      <td>54.535661</td>\n",
       "      <td>1</td>\n",
       "      <td>0</td>\n",
       "      <td>0</td>\n",
       "      <td>1</td>\n",
       "      <td>52.862215</td>\n",
       "      <td>22</td>\n",
       "      <td>1</td>\n",
       "      <td>0</td>\n",
       "    </tr>\n",
       "    <tr>\n",
       "      <th>4996</th>\n",
       "      <td>68.945686</td>\n",
       "      <td>1</td>\n",
       "      <td>0</td>\n",
       "      <td>0</td>\n",
       "      <td>0</td>\n",
       "      <td>70.281638</td>\n",
       "      <td>24</td>\n",
       "      <td>0</td>\n",
       "      <td>1</td>\n",
       "    </tr>\n",
       "    <tr>\n",
       "      <th>4997</th>\n",
       "      <td>43.887603</td>\n",
       "      <td>0</td>\n",
       "      <td>1</td>\n",
       "      <td>0</td>\n",
       "      <td>0</td>\n",
       "      <td>54.913066</td>\n",
       "      <td>31</td>\n",
       "      <td>0</td>\n",
       "      <td>0</td>\n",
       "    </tr>\n",
       "    <tr>\n",
       "      <th>4998</th>\n",
       "      <td>38.935673</td>\n",
       "      <td>0</td>\n",
       "      <td>0</td>\n",
       "      <td>0</td>\n",
       "      <td>1</td>\n",
       "      <td>39.401686</td>\n",
       "      <td>32</td>\n",
       "      <td>0</td>\n",
       "      <td>1</td>\n",
       "    </tr>\n",
       "    <tr>\n",
       "      <th>4999</th>\n",
       "      <td>41.860361</td>\n",
       "      <td>0</td>\n",
       "      <td>1</td>\n",
       "      <td>0</td>\n",
       "      <td>0</td>\n",
       "      <td>40.878469</td>\n",
       "      <td>22</td>\n",
       "      <td>1</td>\n",
       "      <td>0</td>\n",
       "    </tr>\n",
       "  </tbody>\n",
       "</table>\n",
       "<p>5000 rows × 9 columns</p>\n",
       "</div>"
      ],
      "text/plain": [
       "      recall_score  higher_edu  far_from_uni  adhd  low_focus  \\\n",
       "0        49.901149           0             0     0          1   \n",
       "1        45.694396           0             1     0          0   \n",
       "2        43.077346           0             0     0          0   \n",
       "3        46.803464           0             0     0          0   \n",
       "4        61.015147           0             1     0          0   \n",
       "...            ...         ...           ...   ...        ...   \n",
       "4995     54.535661           1             0     0          1   \n",
       "4996     68.945686           1             0     0          0   \n",
       "4997     43.887603           0             1     0          0   \n",
       "4998     38.935673           0             0     0          1   \n",
       "4999     41.860361           0             1     0          0   \n",
       "\n",
       "      text_complexity  age  reads_often  not_tired  \n",
       "0           79.875422   33            1          0  \n",
       "1           57.942067   27            0          0  \n",
       "2           35.177133   25            0          1  \n",
       "3           31.642170   27            1          1  \n",
       "4           78.800936   38            1          1  \n",
       "...               ...  ...          ...        ...  \n",
       "4995        52.862215   22            1          0  \n",
       "4996        70.281638   24            0          1  \n",
       "4997        54.913066   31            0          0  \n",
       "4998        39.401686   32            0          1  \n",
       "4999        40.878469   22            1          0  \n",
       "\n",
       "[5000 rows x 9 columns]"
      ]
     },
     "execution_count": 194,
     "metadata": {},
     "output_type": "execute_result"
    }
   ],
   "source": [
    "df = pd.read_csv('edu_text_recall_data.csv')\n",
    "df"
   ]
  },
  {
   "cell_type": "markdown",
   "id": "d63c8f50",
   "metadata": {},
   "source": [
    "### 1. Математически запишите и содержательно проинтерпретируйте потенциаль-ные исходы целевой переменной. Объясните, как они связаны с наблюдаемымизначениями целевой переменной."
   ]
  },
  {
   "cell_type": "markdown",
   "id": "e3ed7bb0",
   "metadata": {},
   "source": [
    "#### Потенциальные исходы\n",
    "\n",
    "Мы исследуем влияние высшего образования (higher_edu) на полученный recall_score. recall_score кратко назовем $R$, higher_edu - $H$\n",
    "\n",
    "Определим потенциальные исходы для целевой переменной:\n",
    "\n",
    "- $R_{1i} = 1$, если $H_i = 1$, то есть если индивид получил высшее (или еще более высокую степерь) образование\n",
    "\n",
    "- $R_{0i} = 0$, если $H_i = 0$, то есть если индивид не получил высшего (или еще выше) образования\n"
   ]
  },
  {
   "cell_type": "markdown",
   "id": "479f5256",
   "metadata": {},
   "source": [
    "#### Связь с наблюдаемыми значениями\n",
    "\n",
    "В реальности для одного человека нельзя наблюдать оба значения $R_{1i}$ и $R_{0i}$ - только одно, так как параллельных реальностей нет и у нас нет к ним доступа.\n",
    "\n",
    "Тогда фактически Recall_score можно записать так:\n",
    "\n",
    "$$R_i = R_{1i} * H_{i} + R_{0i} * (1 - H_{i})$$\n",
    "\n",
    "- Если $H_{i} = 1$, то $R_{i} = R_{1i}$. \n",
    "- Если $H_{i} = 0$, то $R_{i} = R_{0i}$. "
   ]
  },
  {
   "cell_type": "markdown",
   "id": "5c3d6455",
   "metadata": {},
   "source": [
    "### 2. Используя симулированные вами, но недоступные в реальных данных потенци- альные исходы (гипотетические значения), получите оценки среднего эффекта воздействия, условных средних эффектов воздействия и локального средне- го эффекта воздействия. Для ATE и LATE результаты представьте в форме таблицы, а для CATE постройте гистограмму или ядерную оценку функции плотности. Проинтерпретируйте полученные значения.\n",
    "\n",
    "Примечание: для получения очень точных оценок эффектов воздействия с\n",
    "помощью потенциальных исходов (гипотетических переменных) можно сперва\n",
    "симулировать очень большого число наблюдений, например, несколько миллио-\n",
    "нов. Затем, для ускорения вычислений, для оценивания эффектов воздействия\n",
    "с помощью наблюдемых значений можно использовать часть выборки, напри-\n",
    "мер, десять тысяч наблюдений."
   ]
  },
  {
   "cell_type": "markdown",
   "id": "f3142df8",
   "metadata": {},
   "source": [
    "#### Оценка ATE\n",
    "\n",
    "$$ATE = E[R_{1i}] - E[R_{0i}]$$"
   ]
  },
  {
   "cell_type": "code",
   "execution_count": 195,
   "id": "bbcf5356",
   "metadata": {},
   "outputs": [
    {
     "data": {
      "text/html": [
       "<div>\n",
       "<style scoped>\n",
       "    .dataframe tbody tr th:only-of-type {\n",
       "        vertical-align: middle;\n",
       "    }\n",
       "\n",
       "    .dataframe tbody tr th {\n",
       "        vertical-align: top;\n",
       "    }\n",
       "\n",
       "    .dataframe thead th {\n",
       "        text-align: right;\n",
       "    }\n",
       "</style>\n",
       "<table border=\"1\" class=\"dataframe\">\n",
       "  <thead>\n",
       "    <tr style=\"text-align: right;\">\n",
       "      <th></th>\n",
       "      <th>recall_score</th>\n",
       "      <th>higher_edu</th>\n",
       "      <th>far_from_uni</th>\n",
       "      <th>adhd</th>\n",
       "      <th>low_focus</th>\n",
       "      <th>text_complexity</th>\n",
       "      <th>age</th>\n",
       "      <th>reads_often</th>\n",
       "      <th>not_tired</th>\n",
       "    </tr>\n",
       "  </thead>\n",
       "  <tbody>\n",
       "    <tr>\n",
       "      <th>5</th>\n",
       "      <td>57.321520</td>\n",
       "      <td>1</td>\n",
       "      <td>1</td>\n",
       "      <td>1</td>\n",
       "      <td>1</td>\n",
       "      <td>67.914417</td>\n",
       "      <td>15</td>\n",
       "      <td>0</td>\n",
       "      <td>1</td>\n",
       "    </tr>\n",
       "    <tr>\n",
       "      <th>16</th>\n",
       "      <td>41.653596</td>\n",
       "      <td>1</td>\n",
       "      <td>1</td>\n",
       "      <td>1</td>\n",
       "      <td>1</td>\n",
       "      <td>37.510987</td>\n",
       "      <td>23</td>\n",
       "      <td>0</td>\n",
       "      <td>0</td>\n",
       "    </tr>\n",
       "    <tr>\n",
       "      <th>27</th>\n",
       "      <td>51.857224</td>\n",
       "      <td>1</td>\n",
       "      <td>1</td>\n",
       "      <td>0</td>\n",
       "      <td>1</td>\n",
       "      <td>38.152665</td>\n",
       "      <td>33</td>\n",
       "      <td>1</td>\n",
       "      <td>0</td>\n",
       "    </tr>\n",
       "    <tr>\n",
       "      <th>42</th>\n",
       "      <td>67.099869</td>\n",
       "      <td>1</td>\n",
       "      <td>1</td>\n",
       "      <td>0</td>\n",
       "      <td>0</td>\n",
       "      <td>52.537426</td>\n",
       "      <td>26</td>\n",
       "      <td>0</td>\n",
       "      <td>1</td>\n",
       "    </tr>\n",
       "    <tr>\n",
       "      <th>44</th>\n",
       "      <td>53.793511</td>\n",
       "      <td>1</td>\n",
       "      <td>1</td>\n",
       "      <td>0</td>\n",
       "      <td>1</td>\n",
       "      <td>44.884426</td>\n",
       "      <td>34</td>\n",
       "      <td>0</td>\n",
       "      <td>1</td>\n",
       "    </tr>\n",
       "    <tr>\n",
       "      <th>...</th>\n",
       "      <td>...</td>\n",
       "      <td>...</td>\n",
       "      <td>...</td>\n",
       "      <td>...</td>\n",
       "      <td>...</td>\n",
       "      <td>...</td>\n",
       "      <td>...</td>\n",
       "      <td>...</td>\n",
       "      <td>...</td>\n",
       "    </tr>\n",
       "    <tr>\n",
       "      <th>4890</th>\n",
       "      <td>73.393615</td>\n",
       "      <td>1</td>\n",
       "      <td>1</td>\n",
       "      <td>0</td>\n",
       "      <td>0</td>\n",
       "      <td>61.642857</td>\n",
       "      <td>33</td>\n",
       "      <td>1</td>\n",
       "      <td>1</td>\n",
       "    </tr>\n",
       "    <tr>\n",
       "      <th>4912</th>\n",
       "      <td>52.155524</td>\n",
       "      <td>1</td>\n",
       "      <td>1</td>\n",
       "      <td>0</td>\n",
       "      <td>1</td>\n",
       "      <td>42.730530</td>\n",
       "      <td>22</td>\n",
       "      <td>1</td>\n",
       "      <td>0</td>\n",
       "    </tr>\n",
       "    <tr>\n",
       "      <th>4954</th>\n",
       "      <td>61.695712</td>\n",
       "      <td>1</td>\n",
       "      <td>1</td>\n",
       "      <td>0</td>\n",
       "      <td>0</td>\n",
       "      <td>52.641345</td>\n",
       "      <td>27</td>\n",
       "      <td>0</td>\n",
       "      <td>1</td>\n",
       "    </tr>\n",
       "    <tr>\n",
       "      <th>4975</th>\n",
       "      <td>52.367509</td>\n",
       "      <td>1</td>\n",
       "      <td>1</td>\n",
       "      <td>0</td>\n",
       "      <td>0</td>\n",
       "      <td>21.416790</td>\n",
       "      <td>32</td>\n",
       "      <td>1</td>\n",
       "      <td>0</td>\n",
       "    </tr>\n",
       "    <tr>\n",
       "      <th>4979</th>\n",
       "      <td>48.603570</td>\n",
       "      <td>1</td>\n",
       "      <td>1</td>\n",
       "      <td>0</td>\n",
       "      <td>1</td>\n",
       "      <td>40.295301</td>\n",
       "      <td>26</td>\n",
       "      <td>0</td>\n",
       "      <td>0</td>\n",
       "    </tr>\n",
       "  </tbody>\n",
       "</table>\n",
       "<p>430 rows × 9 columns</p>\n",
       "</div>"
      ],
      "text/plain": [
       "      recall_score  higher_edu  far_from_uni  adhd  low_focus  \\\n",
       "5        57.321520           1             1     1          1   \n",
       "16       41.653596           1             1     1          1   \n",
       "27       51.857224           1             1     0          1   \n",
       "42       67.099869           1             1     0          0   \n",
       "44       53.793511           1             1     0          1   \n",
       "...            ...         ...           ...   ...        ...   \n",
       "4890     73.393615           1             1     0          0   \n",
       "4912     52.155524           1             1     0          1   \n",
       "4954     61.695712           1             1     0          0   \n",
       "4975     52.367509           1             1     0          0   \n",
       "4979     48.603570           1             1     0          1   \n",
       "\n",
       "      text_complexity  age  reads_often  not_tired  \n",
       "5           67.914417   15            0          1  \n",
       "16          37.510987   23            0          0  \n",
       "27          38.152665   33            1          0  \n",
       "42          52.537426   26            0          1  \n",
       "44          44.884426   34            0          1  \n",
       "...               ...  ...          ...        ...  \n",
       "4890        61.642857   33            1          1  \n",
       "4912        42.730530   22            1          0  \n",
       "4954        52.641345   27            0          1  \n",
       "4975        21.416790   32            1          0  \n",
       "4979        40.295301   26            0          0  \n",
       "\n",
       "[430 rows x 9 columns]"
      ]
     },
     "execution_count": 195,
     "metadata": {},
     "output_type": "execute_result"
    }
   ],
   "source": [
    "df[(df['higher_edu'] == 1) & (df['far_from_uni'] == 1)]"
   ]
  },
  {
   "cell_type": "code",
   "execution_count": 196,
   "id": "939b4942",
   "metadata": {},
   "outputs": [
    {
     "data": {
      "text/plain": [
       "higher_edu  far_from_uni\n",
       "0           0               1903\n",
       "            1               1535\n",
       "1           0               1132\n",
       "            1                430\n",
       "Name: count, dtype: int64"
      ]
     },
     "execution_count": 196,
     "metadata": {},
     "output_type": "execute_result"
    }
   ],
   "source": [
    "df[['higher_edu', 'far_from_uni']].value_counts()"
   ]
  },
  {
   "cell_type": "markdown",
   "id": "64093dcc",
   "metadata": {},
   "source": [
    "### 3. Оцените средний эффект воздействия как разницу в средних по выборкам тех, кто получил и не получил воздействие. Опишите недостатки соответствующего подхода с учетом специфики рассматриваемой вами экономической проблемы.\n",
    "\n",
    "Примечание: в этом пункте и далее, если не сказано иное, используются лишь\n",
    "наблюдаемые значения целевой переменной."
   ]
  },
  {
   "cell_type": "markdown",
   "id": "bb4dbac2",
   "metadata": {},
   "source": [
    "#### Ошибочная оценка ATE\n",
    "\n",
    "Посчитаем ${ATE_{wrong}}$ = $E[R_{1i} | {H_{i} = 1}]$ - $E[R_{0i} | {H_{i} = 0}]$\n",
    "\n",
    "Тогда для оценки ATE используем ЗБЧ и мат. ожидания заменим на средние значения:"
   ]
  },
  {
   "cell_type": "code",
   "execution_count": 197,
   "id": "2ef6c4e3",
   "metadata": {},
   "outputs": [
    {
     "name": "stdout",
     "output_type": "stream",
     "text": [
      "ATE_hat_wrong = 16.78\n"
     ]
    }
   ],
   "source": [
    "ATE_hat_wrong = df.loc[(df['higher_edu'] == 1), 'recall_score'].mean() - df.loc[(df['higher_edu'] == 0), 'recall_score'].mean()\n",
    "print(f'ATE_hat_wrong = {ATE_hat_wrong:.2f}')"
   ]
  },
  {
   "cell_type": "markdown",
   "id": "2e44ca68",
   "metadata": {},
   "source": [
    "#### Почему это ошибочная оценка:\n",
    "\n",
    "##### Группы получивших и не получивших воздействие (получение высшего образования) сформированы ```не случайно```\n",
    "\n",
    "Из-за этого $E[R_{1i}] \\not = E[R_{1i} | {H_{i} = 1}]$ и $E[R_{0i}] \\not = E[R_{0i} | {H_{i} = 0}]$, поэтому теоретическая запись этой оценки не равна настоящему ATE.\n",
    "\n",
    "Если бы отбор был случайным (например, реально случайная лотерея среди всего населения за обязательство того, чтобы безусловно пойти на учебу), то выполнялось бы условие $E[R_{1i}] = E[R_{1i} | {H_{i} = 1}]$\n",
    "\n",
    "##### Интуитивно:\n",
    "\n",
    "- Если не фиксировать случайный отбор, то возникает проблема эндогенности и самоотбора. Изначально более склонные к умственной деятельности, чтению текстов и прохождению таких тестов люди могут выбрать пойти получать высшее образование в университет. Из-за этой проблемы получается, что при такой формулировке оценки мы в качестве эффекта от образования считаем еще и вклад других факторов, а нужно считать эффект только от образования."
   ]
  },
  {
   "cell_type": "markdown",
   "id": "94ffb82b",
   "metadata": {},
   "source": [
    "### 4. Используя оценки, полученные лучшими из обученных ранее классификационных и регрессионных моделей, оцените средний эффект воздействия с помощью:\n",
    "- метода наименьших квадратов.\n",
    "- условных математических ожиданий.\n",
    "- взвешивания на обратные вероятности (в случае возникновения ошибок\n",
    "убедитесь в отсутствии оценок вероятностей, равных 0 или 1 и при необ-\n",
    "ходимости измените метод оценивания).\n",
    "- метода, обладающего двойной устойчивостью.\n",
    "- двойного машинного обучения.\n",
    "\n",
    "Сравните результаты и назовите ключевую предпосылку этих методов. Содержательно обсудите причины, по которым она может соблюдаться или нарушаться в вашем случае. Приведите содержательную экономическую интерпретацию оценки среднего эффекта воздействия.\n",
    "\n",
    "Повышенная сложность: включите дополнительный метод, не рассматри-\n",
    "вавшийся в курсе, и опишите его принцип работы, а также преимущества и\n",
    "недостатки по сравнению с другими методами."
   ]
  },
  {
   "cell_type": "markdown",
   "id": "2c493fe4",
   "metadata": {},
   "source": [
    "#### Оценка ATE методом МНК\n",
    "\n",
    "В качестве регрессоров берем переменную воздействия ```higher_edu```\n",
    "\n",
    "Также берем 6 контрольных переменных: `adhd`, `low_focus`, `text_complexity`, `age`, `reads_often`, `not_tired`\n",
    "\n",
    "Инструментальную переменную `far_from_uni` не используем"
   ]
  },
  {
   "cell_type": "code",
   "execution_count": 198,
   "id": "6b85d65d",
   "metadata": {},
   "outputs": [
    {
     "data": {
      "text/html": [
       "<table class=\"simpletable\">\n",
       "<caption>OLS Regression Results</caption>\n",
       "<tr>\n",
       "  <th>Dep. Variable:</th>      <td>recall_score</td>   <th>  R-squared:         </th> <td>   0.975</td> \n",
       "</tr>\n",
       "<tr>\n",
       "  <th>Model:</th>                   <td>OLS</td>       <th>  Adj. R-squared:    </th> <td>   0.975</td> \n",
       "</tr>\n",
       "<tr>\n",
       "  <th>Method:</th>             <td>Least Squares</td>  <th>  F-statistic:       </th> <td>2.831e+04</td>\n",
       "</tr>\n",
       "<tr>\n",
       "  <th>Date:</th>             <td>Thu, 05 Jun 2025</td> <th>  Prob (F-statistic):</th>  <td>  0.00</td>  \n",
       "</tr>\n",
       "<tr>\n",
       "  <th>Time:</th>                 <td>00:53:49</td>     <th>  Log-Likelihood:    </th> <td> -9683.5</td> \n",
       "</tr>\n",
       "<tr>\n",
       "  <th>No. Observations:</th>      <td>  5000</td>      <th>  AIC:               </th> <td>1.938e+04</td>\n",
       "</tr>\n",
       "<tr>\n",
       "  <th>Df Residuals:</th>          <td>  4992</td>      <th>  BIC:               </th> <td>1.944e+04</td>\n",
       "</tr>\n",
       "<tr>\n",
       "  <th>Df Model:</th>              <td>     7</td>      <th>                     </th>     <td> </td>    \n",
       "</tr>\n",
       "<tr>\n",
       "  <th>Covariance Type:</th>      <td>nonrobust</td>    <th>                     </th>     <td> </td>    \n",
       "</tr>\n",
       "</table>\n",
       "<table class=\"simpletable\">\n",
       "<tr>\n",
       "         <td></td>            <th>coef</th>     <th>std err</th>      <th>t</th>      <th>P>|t|</th>  <th>[0.025</th>    <th>0.975]</th>  \n",
       "</tr>\n",
       "<tr>\n",
       "  <th>Intercept</th>       <td>   25.6799</td> <td>    0.130</td> <td>  198.084</td> <td> 0.000</td> <td>   25.426</td> <td>   25.934</td>\n",
       "</tr>\n",
       "<tr>\n",
       "  <th>higher_edu</th>      <td>   15.3151</td> <td>    0.052</td> <td>  294.615</td> <td> 0.000</td> <td>   15.213</td> <td>   15.417</td>\n",
       "</tr>\n",
       "<tr>\n",
       "  <th>adhd</th>            <td>   -4.8102</td> <td>    0.078</td> <td>  -61.529</td> <td> 0.000</td> <td>   -4.963</td> <td>   -4.657</td>\n",
       "</tr>\n",
       "<tr>\n",
       "  <th>low_focus</th>       <td>   -6.5196</td> <td>    0.056</td> <td> -116.352</td> <td> 0.000</td> <td>   -6.629</td> <td>   -6.410</td>\n",
       "</tr>\n",
       "<tr>\n",
       "  <th>text_complexity</th> <td>    0.3310</td> <td>    0.002</td> <td>  207.690</td> <td> 0.000</td> <td>    0.328</td> <td>    0.334</td>\n",
       "</tr>\n",
       "<tr>\n",
       "  <th>age</th>             <td>    0.0048</td> <td>    0.003</td> <td>    1.579</td> <td> 0.114</td> <td>   -0.001</td> <td>    0.011</td>\n",
       "</tr>\n",
       "<tr>\n",
       "  <th>reads_often</th>     <td>    4.6844</td> <td>    0.049</td> <td>   95.308</td> <td> 0.000</td> <td>    4.588</td> <td>    4.781</td>\n",
       "</tr>\n",
       "<tr>\n",
       "  <th>not_tired</th>       <td>    4.7358</td> <td>    0.049</td> <td>   96.707</td> <td> 0.000</td> <td>    4.640</td> <td>    4.832</td>\n",
       "</tr>\n",
       "</table>\n",
       "<table class=\"simpletable\">\n",
       "<tr>\n",
       "  <th>Omnibus:</th>       <td>140.740</td> <th>  Durbin-Watson:     </th> <td>   1.990</td>\n",
       "</tr>\n",
       "<tr>\n",
       "  <th>Prob(Omnibus):</th> <td> 0.000</td>  <th>  Jarque-Bera (JB):  </th> <td> 307.991</td>\n",
       "</tr>\n",
       "<tr>\n",
       "  <th>Skew:</th>          <td>-0.146</td>  <th>  Prob(JB):          </th> <td>1.32e-67</td>\n",
       "</tr>\n",
       "<tr>\n",
       "  <th>Kurtosis:</th>      <td> 4.180</td>  <th>  Cond. No.          </th> <td>    331.</td>\n",
       "</tr>\n",
       "</table><br/><br/>Notes:<br/>[1] Standard Errors assume that the covariance matrix of the errors is correctly specified."
      ],
      "text/latex": [
       "\\begin{center}\n",
       "\\begin{tabular}{lclc}\n",
       "\\toprule\n",
       "\\textbf{Dep. Variable:}    &  recall\\_score   & \\textbf{  R-squared:         } &     0.975   \\\\\n",
       "\\textbf{Model:}            &       OLS        & \\textbf{  Adj. R-squared:    } &     0.975   \\\\\n",
       "\\textbf{Method:}           &  Least Squares   & \\textbf{  F-statistic:       } & 2.831e+04   \\\\\n",
       "\\textbf{Date:}             & Thu, 05 Jun 2025 & \\textbf{  Prob (F-statistic):} &     0.00    \\\\\n",
       "\\textbf{Time:}             &     00:53:49     & \\textbf{  Log-Likelihood:    } &   -9683.5   \\\\\n",
       "\\textbf{No. Observations:} &        5000      & \\textbf{  AIC:               } & 1.938e+04   \\\\\n",
       "\\textbf{Df Residuals:}     &        4992      & \\textbf{  BIC:               } & 1.944e+04   \\\\\n",
       "\\textbf{Df Model:}         &           7      & \\textbf{                     } &             \\\\\n",
       "\\textbf{Covariance Type:}  &    nonrobust     & \\textbf{                     } &             \\\\\n",
       "\\bottomrule\n",
       "\\end{tabular}\n",
       "\\begin{tabular}{lcccccc}\n",
       "                          & \\textbf{coef} & \\textbf{std err} & \\textbf{t} & \\textbf{P$> |$t$|$} & \\textbf{[0.025} & \\textbf{0.975]}  \\\\\n",
       "\\midrule\n",
       "\\textbf{Intercept}        &      25.6799  &        0.130     &   198.084  &         0.000        &       25.426    &       25.934     \\\\\n",
       "\\textbf{higher\\_edu}      &      15.3151  &        0.052     &   294.615  &         0.000        &       15.213    &       15.417     \\\\\n",
       "\\textbf{adhd}             &      -4.8102  &        0.078     &   -61.529  &         0.000        &       -4.963    &       -4.657     \\\\\n",
       "\\textbf{low\\_focus}       &      -6.5196  &        0.056     &  -116.352  &         0.000        &       -6.629    &       -6.410     \\\\\n",
       "\\textbf{text\\_complexity} &       0.3310  &        0.002     &   207.690  &         0.000        &        0.328    &        0.334     \\\\\n",
       "\\textbf{age}              &       0.0048  &        0.003     &     1.579  &         0.114        &       -0.001    &        0.011     \\\\\n",
       "\\textbf{reads\\_often}     &       4.6844  &        0.049     &    95.308  &         0.000        &        4.588    &        4.781     \\\\\n",
       "\\textbf{not\\_tired}       &       4.7358  &        0.049     &    96.707  &         0.000        &        4.640    &        4.832     \\\\\n",
       "\\bottomrule\n",
       "\\end{tabular}\n",
       "\\begin{tabular}{lclc}\n",
       "\\textbf{Omnibus:}       & 140.740 & \\textbf{  Durbin-Watson:     } &    1.990  \\\\\n",
       "\\textbf{Prob(Omnibus):} &   0.000 & \\textbf{  Jarque-Bera (JB):  } &  307.991  \\\\\n",
       "\\textbf{Skew:}          &  -0.146 & \\textbf{  Prob(JB):          } & 1.32e-67  \\\\\n",
       "\\textbf{Kurtosis:}      &   4.180 & \\textbf{  Cond. No.          } &     331.  \\\\\n",
       "\\bottomrule\n",
       "\\end{tabular}\n",
       "%\\caption{OLS Regression Results}\n",
       "\\end{center}\n",
       "\n",
       "Notes: \\newline\n",
       " [1] Standard Errors assume that the covariance matrix of the errors is correctly specified."
      ],
      "text/plain": [
       "<class 'statsmodels.iolib.summary.Summary'>\n",
       "\"\"\"\n",
       "                            OLS Regression Results                            \n",
       "==============================================================================\n",
       "Dep. Variable:           recall_score   R-squared:                       0.975\n",
       "Model:                            OLS   Adj. R-squared:                  0.975\n",
       "Method:                 Least Squares   F-statistic:                 2.831e+04\n",
       "Date:                Thu, 05 Jun 2025   Prob (F-statistic):               0.00\n",
       "Time:                        00:53:49   Log-Likelihood:                -9683.5\n",
       "No. Observations:                5000   AIC:                         1.938e+04\n",
       "Df Residuals:                    4992   BIC:                         1.944e+04\n",
       "Df Model:                           7                                         \n",
       "Covariance Type:            nonrobust                                         \n",
       "===================================================================================\n",
       "                      coef    std err          t      P>|t|      [0.025      0.975]\n",
       "-----------------------------------------------------------------------------------\n",
       "Intercept          25.6799      0.130    198.084      0.000      25.426      25.934\n",
       "higher_edu         15.3151      0.052    294.615      0.000      15.213      15.417\n",
       "adhd               -4.8102      0.078    -61.529      0.000      -4.963      -4.657\n",
       "low_focus          -6.5196      0.056   -116.352      0.000      -6.629      -6.410\n",
       "text_complexity     0.3310      0.002    207.690      0.000       0.328       0.334\n",
       "age                 0.0048      0.003      1.579      0.114      -0.001       0.011\n",
       "reads_often         4.6844      0.049     95.308      0.000       4.588       4.781\n",
       "not_tired           4.7358      0.049     96.707      0.000       4.640       4.832\n",
       "==============================================================================\n",
       "Omnibus:                      140.740   Durbin-Watson:                   1.990\n",
       "Prob(Omnibus):                  0.000   Jarque-Bera (JB):              307.991\n",
       "Skew:                          -0.146   Prob(JB):                     1.32e-67\n",
       "Kurtosis:                       4.180   Cond. No.                         331.\n",
       "==============================================================================\n",
       "\n",
       "Notes:\n",
       "[1] Standard Errors assume that the covariance matrix of the errors is correctly specified.\n",
       "\"\"\""
      ]
     },
     "execution_count": 198,
     "metadata": {},
     "output_type": "execute_result"
    }
   ],
   "source": [
    "ols_model = smf.ols('recall_score ~ higher_edu + adhd + low_focus + text_complexity + age + reads_often + not_tired', data=df).fit()\n",
    "ols_model.summary()"
   ]
  },
  {
   "cell_type": "code",
   "execution_count": 199,
   "id": "2507ab7d",
   "metadata": {},
   "outputs": [
    {
     "name": "stdout",
     "output_type": "stream",
     "text": [
      "Оценка ATE методом МНК: 15.32\n"
     ]
    }
   ],
   "source": [
    "ATE_hat_ols = ols_model.params['higher_edu']\n",
    "\n",
    "print(f'Оценка ATE методом МНК: {ATE_hat_ols:.2f}')"
   ]
  },
  {
   "cell_type": "markdown",
   "id": "40e891a2",
   "metadata": {},
   "source": [
    "#### Оценка ATE методом условных мат. ожиданий\n",
    "\n",
    "**Допущение об условной независимости:** $E[R_{1i} | X_i, H_i = 1] = E[Y_{1i} | X_i]$\n",
    "\n",
    "При соблюдении допущения об условной независимости:\n",
    "\n",
    "$ATE = E[R_{1i}] - E[R_{0i}] = E(E[R_{1i} | X_i] - E[R_{0i} | X_i]) = E( E[R_i | X_i, H_i = 1] − E[R_i | X_i, H_i = 0] )$\n",
    "\n",
    "Это можно оценить как:\n",
    "\n",
    "$$\\hat{ATE} = \\frac{1}{n} * \\Sigma_{i=1}^n (E[R_i | X_i, H_i = 1] - E[R_i | X_i, H_i = 0])$$\n",
    "\n",
    "Останется оценить E[R_i | X_i, H_i] и можно вычислить оценку ATE\n",
    "\n",
    "$$\\hat{ATE} = \\frac{1}{n} * \\Sigma_{i=1}^n (\\hat{E}[R_i | X_i, H_i = 1] - \\hat{E}[R_i | X_i, H_i = 0])$$"
   ]
  },
  {
   "cell_type": "code",
   "execution_count": 200,
   "id": "eec3e649",
   "metadata": {},
   "outputs": [],
   "source": [
    "features_for_rf = ['higher_edu', 'adhd', 'low_focus', 'text_complexity', 'age', 'reads_often', 'not_tired']\n",
    "\n",
    "treated_mask = (df['higher_edu'] == 1)\n",
    "not_treated_mask = (df['higher_edu'] == 0)\n",
    "\n",
    "X = df.loc[:, features_for_rf]\n",
    "y = df.loc[:, 'recall_score']\n",
    "\n",
    "X_treated = X.loc[treated_mask]\n",
    "y_treated = y.loc[treated_mask]\n",
    "\n",
    "X_not_treated = X.loc[not_treated_mask]\n",
    "y_not_treated = y.loc[not_treated_mask]"
   ]
  },
  {
   "cell_type": "code",
   "execution_count": 201,
   "id": "88c008d9",
   "metadata": {},
   "outputs": [],
   "source": [
    "from sklearn.ensemble import RandomForestRegressor\n",
    "from sklearn.model_selection import GridSearchCV, KFold"
   ]
  },
  {
   "cell_type": "code",
   "execution_count": 202,
   "id": "947dfd77",
   "metadata": {},
   "outputs": [],
   "source": [
    "param_grid = {\n",
    "    'n_estimators': [50, 100, 200], \n",
    "    'max_depth': [3, 5, 10, None],  \n",
    "    'min_samples_split': [2, 5, 10],\n",
    "    'min_samples_leaf': [1, 2, 4, 10]   \n",
    "}\n",
    "\n",
    "def cv_random_forest(X, y, param_grid=param_grid):\n",
    "    model = RandomForestRegressor(random_state=42)\n",
    "    grid_search = GridSearchCV(\n",
    "        estimator=model,\n",
    "        param_grid=param_grid,\n",
    "        cv=KFold(n_splits=5, shuffle=True, random_state=42), \n",
    "    )\n",
    "    grid_search.fit(X, y)\n",
    "\n",
    "    return grid_search.best_estimator_"
   ]
  },
  {
   "cell_type": "code",
   "execution_count": 203,
   "id": "f42514f8",
   "metadata": {},
   "outputs": [],
   "source": [
    "rf_model_treated = cv_random_forest(X_treated, y_treated)"
   ]
  },
  {
   "cell_type": "code",
   "execution_count": 204,
   "id": "f0a6d918",
   "metadata": {},
   "outputs": [],
   "source": [
    "rf_model_not_treated = cv_random_forest(X_not_treated, y_not_treated)"
   ]
  },
  {
   "cell_type": "code",
   "execution_count": 205,
   "id": "ef2a213b",
   "metadata": {},
   "outputs": [
    {
     "name": "stdout",
     "output_type": "stream",
     "text": [
      "Оценка ATE по методу условных мат. ожиданий: 15.46\n"
     ]
    }
   ],
   "source": [
    "y_pred_treated = rf_model_treated.predict(X)\n",
    "y_pred_not_treated = rf_model_not_treated.predict(X)\n",
    "\n",
    "ATE_hat_condexp = np.mean(y_pred_treated - y_pred_not_treated)\n",
    "\n",
    "print(f'Оценка ATE по методу условных мат. ожиданий: {ATE_hat_condexp:.2f}')"
   ]
  },
  {
   "cell_type": "code",
   "execution_count": 206,
   "id": "f3405823",
   "metadata": {},
   "outputs": [],
   "source": [
    "from catboost import CatBoostRegressor\n",
    "\n",
    "catboost_param_grid = {\n",
    "    'iterations': [100, 200, 300],     \n",
    "    'depth': [3, 5, 7],                \n",
    "    'learning_rate': [0.01, 0.05, 0.1],\n",
    "    'l2_leaf_reg': [1, 3, 5]           \n",
    "}\n",
    "\n",
    "def cv_catboost(X, y, param_grid=catboost_param_grid):\n",
    "    model = CatBoostRegressor(random_state=42, silent=True) \n",
    "    grid_search = GridSearchCV(\n",
    "        estimator=model,\n",
    "        param_grid=param_grid,\n",
    "        cv=KFold(n_splits=5, shuffle=True, random_state=42),\n",
    "        scoring='neg_mean_squared_error',\n",
    "    )\n",
    "    grid_search.fit(X, y)\n",
    "    return grid_search.best_estimator_"
   ]
  },
  {
   "cell_type": "code",
   "execution_count": 207,
   "id": "b0a69d61",
   "metadata": {},
   "outputs": [
    {
     "name": "stdout",
     "output_type": "stream",
     "text": [
      "Оценка ATE по методу условных мат. ожиданий: (CatBoost): 15.37\n"
     ]
    }
   ],
   "source": [
    "cb_model_treated = cv_catboost(X_treated, y_treated)\n",
    "\n",
    "cb_model_not_treated = cv_catboost(X_not_treated, y_not_treated)\n",
    "\n",
    "y_pred_treated_cb = cb_model_treated.predict(X)\n",
    "y_pred_not_treated_cb = cb_model_not_treated.predict(X)\n",
    "\n",
    "ATE_cb = np.mean(y_pred_treated_cb - y_pred_not_treated_cb)\n",
    "print(f'Оценка ATE по методу условных мат. ожиданий: (CatBoost): {ATE_cb:.2f}')"
   ]
  },
  {
   "cell_type": "markdown",
   "id": "3b12c335",
   "metadata": {},
   "source": [
    "#### Оценка ATE методом взвешенных обратных вероятностей\n",
    "\n",
    "Снова требуется предпосылка об условной независимости\n",
    "\n",
    "Тогда будет выполняться\n",
    "\n",
    "$ATE = E[\\cfrac{H_i * Y_i}{P(H_i = 1|X_i)}] − E[\\cfrac{(1 - H_i) * Y_i}{1 - P(H_i = 1|X_i)}]$\n",
    "\n",
    "Тогда оценка $\\hat{ATE} = \\cfrac{1}{n} \\Sigma_{i=1}^n (\\cfrac{H_i * Y_i}{\\hat{P}(H_i = 1|X_i)}) - \\cfrac{(1 - H_i) * Y_i}{1 - \\hat{P}(H_i = 1|X_i)}$\n",
    "\n",
    "Останется только оценить $\\hat{P}(H_i | X_i)$\n",
    "\n",
    "Оценим вероятности с помощью RandomForestClassifier и CatBoostClassifier"
   ]
  },
  {
   "cell_type": "code",
   "execution_count": null,
   "id": "ae3cbf0f",
   "metadata": {},
   "outputs": [],
   "source": [
    "from sklearn.ensemble import RandomForestClassifier\n",
    "from catboost import CatBoostClassifier\n",
    "from sklearn.linear_model import LogisticRegression\n",
    "\n",
    "\n",
    "# RF\n",
    "\n",
    "param_grid = {\n",
    "    'n_estimators': [50, 100, 200], \n",
    "    'max_depth': [3, 5, 10, None],  \n",
    "    'min_samples_split': [2, 5, 10],\n",
    "    'min_samples_leaf': [1, 2, 4, 10]   \n",
    "}\n",
    "\n",
    "def cv_random_forest_classifier(X, y, param_grid=param_grid):\n",
    "    model = RandomForestClassifier(random_state=42)\n",
    "    grid_search = GridSearchCV(\n",
    "        estimator=model,\n",
    "        param_grid=param_grid,\n",
    "        cv=KFold(n_splits=5, shuffle=True, random_state=42), \n",
    "    )\n",
    "    grid_search.fit(X, y)\n",
    "\n",
    "    return grid_search.best_estimator_\n",
    "\n",
    "\n",
    "\n",
    "# CATBOOST\n",
    "\n",
    "catboost_param_grid = {\n",
    "    'iterations': [100, 200, 300],     \n",
    "    'depth': [3, 5, 7],                \n",
    "    'learning_rate': [0.01, 0.05, 0.1],\n",
    "    'l2_leaf_reg': [1, 3, 5]           \n",
    "}\n",
    "\n",
    "def cv_catboost_classifier(X, y, param_grid=catboost_param_grid):\n",
    "    model = CatBoostClassifier(random_state=42, silent=True) \n",
    "    grid_search = GridSearchCV(\n",
    "        estimator=model,\n",
    "        param_grid=param_grid,\n",
    "        scoring='neg_log_loss',\n",
    "        cv=KFold(n_splits=5, shuffle=True, random_state=42),\n",
    "    )\n",
    "    grid_search.fit(X, y)\n",
    "    return grid_search.best_estimator_\n",
    "\n",
    "\n",
    "X_for_p_weights = df.loc[:, ['adhd', 'low_focus', 'text_complexity', 'age', 'reads_often', 'not_tired']]\n",
    "y_for_p_weights = df.loc[:, 'higher_edu']"
   ]
  },
  {
   "cell_type": "code",
   "execution_count": 209,
   "id": "93547b3c",
   "metadata": {},
   "outputs": [],
   "source": [
    "rf_for_p_weights_model = cv_random_forest_classifier(X_for_p_weights, y_for_p_weights)"
   ]
  },
  {
   "cell_type": "code",
   "execution_count": 210,
   "id": "fb10eb43",
   "metadata": {},
   "outputs": [],
   "source": [
    "rf_probas_for_p_weights = rf_for_p_weights_model.predict_proba(X_for_p_weights)[:, 1]"
   ]
  },
  {
   "cell_type": "code",
   "execution_count": 211,
   "id": "be12f7b7",
   "metadata": {},
   "outputs": [],
   "source": [
    "cb_for_p_weights_model = cv_catboost_classifier(X_for_p_weights, y_for_p_weights)"
   ]
  },
  {
   "cell_type": "code",
   "execution_count": 212,
   "id": "9c768e69",
   "metadata": {},
   "outputs": [],
   "source": [
    "cb_probas_for_p_weights = cb_for_p_weights_model.predict_proba(X_for_p_weights)[:, 1]"
   ]
  },
  {
   "cell_type": "code",
   "execution_count": 213,
   "id": "3db92a32",
   "metadata": {},
   "outputs": [],
   "source": [
    "logreg_for_p_weights_model = LogisticRegression().fit(X_for_p_weights, y_for_p_weights)\n",
    "logreg_probas_for_p_weights = logreg_for_p_weights_model.predict_proba(X_for_p_weights)[:, 1]"
   ]
  },
  {
   "cell_type": "code",
   "execution_count": 214,
   "id": "84d0a70c",
   "metadata": {},
   "outputs": [
    {
     "name": "stdout",
     "output_type": "stream",
     "text": [
      "Оценка ATE методом взвешенных вероятностей (модель RF): 14.28\n",
      "Оценка ATE методом взвешенных вероятностей (модель CatBoost): 14.82\n",
      "Оценка ATE методом взвешенных вероятностей (модель LogReg): 15.59\n"
     ]
    }
   ],
   "source": [
    "part_for_p_weights_rf = (df['higher_edu'] * df['recall_score'] / rf_probas_for_p_weights - (1 - df['higher_edu']) * df['recall_score'] / (1 - rf_probas_for_p_weights))\n",
    "\n",
    "part_for_p_weights_cb = (df['higher_edu'] * df['recall_score'] / cb_probas_for_p_weights - (1 - df['higher_edu']) * df['recall_score'] / (1 - cb_probas_for_p_weights))\n",
    "\n",
    "part_for_p_weights_logreg = (df['higher_edu'] * df['recall_score'] / logreg_probas_for_p_weights - (1 - df['higher_edu']) * df['recall_score'] / (1 - logreg_probas_for_p_weights))\n",
    "\n",
    "ATE_hat_pweights_rf = np.mean(part_for_p_weights_rf)\n",
    "ATE_hat_pweights_cb = np.mean(part_for_p_weights_cb)\n",
    "ATE_hat_pweights_logreg = np.mean(part_for_p_weights_logreg)\n",
    "\n",
    "print(f'Оценка ATE методом взвешенных вероятностей (модель RF): {ATE_hat_pweights_rf:.2f}')\n",
    "print(f'Оценка ATE методом взвешенных вероятностей (модель CatBoost): {ATE_hat_pweights_cb:.2f}')\n",
    "print(f'Оценка ATE методом взвешенных вероятностей (модель LogReg): {ATE_hat_pweights_logreg:.2f}')"
   ]
  },
  {
   "cell_type": "markdown",
   "id": "bb69571f",
   "metadata": {},
   "source": [
    "#### Оценка ATE методом Двойной устойчивости (DRE)\n",
    "\n",
    "У прошлых двух методов есть проблема - нужно иметь состоятельную оценку $E[Y_i | X_i, H_i]$ или $P(H_i = 1 | X_i)$, причем понять что полученная численная оценка состоятельна сложно, поэтому это добавляет неопределенности в выборе метода.\n",
    "\n",
    "Double Robust метод помогает устранить неопределенность. Ему достаточно иметь состоятельную оценку хотя бы одну из этих двух. Согласно этому методу:\n",
    "\n",
    "$\\hat{ATE_{DR}} = \\cfrac{1}{n} \\Sigma_{i=1}^n ( E[R_i | X_i, H_i = 1] - E[R_i | X_i, H_i = 0] ) + \\cfrac{1}{n} \\Sigma_{i=1}^n (\\cfrac{H_i * (R_i - E[R_i | X_i, H_i = 1])}{\\hat{P}(H_i = 1|X_i)} - \\cfrac{(1 - H_i) * (R_i - E[R_i | X_i, H_i = 0])}{1 - \\hat{P}(H_i = 1|X_i)})$\n",
    "\n",
    "У нас все уже оценено, поэтому подставим все оценки в формулу и получим оценку $ATE$"
   ]
  },
  {
   "cell_type": "code",
   "execution_count": 215,
   "id": "a1088ecf",
   "metadata": {},
   "outputs": [
    {
     "name": "stdout",
     "output_type": "stream",
     "text": [
      "Оценка методом двойной устойчивости (RF): 15.42\n",
      "Оценка методом двойной устойчивости (CatBoost): 15.43\n",
      "Оценка методом двойной устойчивости (LogReg): 15.41\n"
     ]
    }
   ],
   "source": [
    "ATE_hat_dr_rf = np.mean(y_pred_treated - y_pred_not_treated) + np.mean(df['higher_edu'] * (df['recall_score'] - y_pred_treated) / rf_probas_for_p_weights - (1 - df['higher_edu']) * (df['recall_score'] - y_pred_not_treated) / (1 - rf_probas_for_p_weights))\n",
    "\n",
    "ATE_hat_dr_cb = np.mean(y_pred_treated - y_pred_not_treated) + np.mean(df['higher_edu'] * (df['recall_score'] - y_pred_treated) / cb_probas_for_p_weights - (1 - df['higher_edu']) * (df['recall_score'] - y_pred_not_treated) / (1 - cb_probas_for_p_weights))\n",
    "\n",
    "ATE_hat_dr_logreg = np.mean(y_pred_treated - y_pred_not_treated) + np.mean(df['higher_edu'] * (df['recall_score'] - y_pred_treated) / logreg_probas_for_p_weights - (1 - df['higher_edu']) * (df['recall_score'] - y_pred_not_treated) / (1 - logreg_probas_for_p_weights))\n",
    "\n",
    "print(f'Оценка методом двойной устойчивости (RF): {ATE_hat_dr_rf:.2f}')\n",
    "print(f'Оценка методом двойной устойчивости (CatBoost): {ATE_hat_dr_cb:.2f}')\n",
    "print(f'Оценка методом двойной устойчивости (LogReg): {ATE_hat_dr_logreg:.2f}')"
   ]
  },
  {
   "cell_type": "markdown",
   "id": "c276f1da",
   "metadata": {},
   "source": [
    "#### Оценка ATE методом Двойного машинного обучения (Double ML)\n",
    "\n",
    "##### Тут будет теория"
   ]
  },
  {
   "cell_type": "code",
   "execution_count": 216,
   "id": "4452ce40",
   "metadata": {},
   "outputs": [
    {
     "name": "stdout",
     "output_type": "stream",
     "text": [
      "Оценка ATE методом double ML (RF-RF): 14.48\n",
      "Оценка ATE методом double ML (CB-CB): 14.45\n",
      "Оценка ATE методом double ML (CB-LogReg): 14.42\n",
      "Оценка ATE методом double ML (LinReg-LogReg): 14.36\n"
     ]
    }
   ],
   "source": [
    "from sklearn.linear_model import LinearRegression\n",
    "import doubleml\n",
    "from econml.dml import LinearDML\n",
    "\n",
    "\n",
    "X_dml = df.loc[:, ['adhd', 'low_focus', 'text_complexity', 'age', 'reads_often', 'not_tired']]\n",
    "T_dml = df.loc[:, 'higher_edu']\n",
    "y_dml = df.loc[:, 'recall_score']\n",
    "\n",
    "\n",
    "def get_dml_ate(model_y=RandomForestRegressor(), model_t=RandomForestClassifier()):\n",
    "\n",
    "    dml_model_rf = LinearDML(\n",
    "        model_y=RandomForestRegressor(),  # Модель для Y\n",
    "        model_t=RandomForestClassifier(),  # Модель для D\n",
    "        discrete_treatment=True,\n",
    "        cv=5\n",
    "    )\n",
    "\n",
    "    dml_model_rf.fit(y_dml, T_dml, X=X_dml)\n",
    "\n",
    "    ATE_dml = dml_model_rf.ate(X_dml)\n",
    "\n",
    "    return ATE_dml\n",
    "\n",
    "ATE_hat_dml_rf_rf = get_dml_ate(RandomForestRegressor(), RandomForestClassifier())\n",
    "ATE_hat_dml_cb_cb = get_dml_ate(CatBoostRegressor(), CatBoostClassifier())\n",
    "ATE_hat_dml_cb_logreg = get_dml_ate(CatBoostRegressor(), LogisticRegression())\n",
    "ATE_hat_dml_linreg_logreg = get_dml_ate(LinearRegression(), LogisticRegression())\n",
    "\n",
    "print(f'Оценка ATE методом double ML (RF-RF): {ATE_hat_dml_rf_rf:.2f}')\n",
    "print(f'Оценка ATE методом double ML (CB-CB): {ATE_hat_dml_cb_cb:.2f}')\n",
    "print(f'Оценка ATE методом double ML (CB-LogReg): {ATE_hat_dml_cb_logreg:.2f}')\n",
    "print(f'Оценка ATE методом double ML (LinReg-LogReg): {ATE_hat_dml_linreg_logreg:.2f}')"
   ]
  },
  {
   "cell_type": "code",
   "execution_count": 219,
   "id": "1323871c",
   "metadata": {},
   "outputs": [],
   "source": [
    "dml_model_rf = LinearDML(\n",
    "    model_y=RandomForestRegressor(),  # Модель для Y\n",
    "    model_t=RandomForestClassifier(),  # Модель для D\n",
    "    discrete_treatment=True,\n",
    "    cv=5\n",
    ")\n",
    "\n",
    "dml_model_rf.fit(y_dml, T_dml, X=X_dml)\n",
    "\n",
    "ATE_dml = dml_model_rf.ate(X_dml)"
   ]
  },
  {
   "cell_type": "code",
   "execution_count": 225,
   "id": "dc31459a",
   "metadata": {},
   "outputs": [
    {
     "data": {
      "text/plain": [
       "14.418737927906934"
      ]
     },
     "execution_count": 225,
     "metadata": {},
     "output_type": "execute_result"
    }
   ],
   "source": [
    "dml_model_rf.effect(X_dml).mean()"
   ]
  },
  {
   "cell_type": "markdown",
   "id": "12d9c55a",
   "metadata": {},
   "source": [
    "#### Propensity Score Matching\n",
    "\n",
    "Нужно оценить Propensity Score = $P(H_i = 1 | X_i)$ - это мы уже делали для оценки ATE методом взвешивания вероятностей\n",
    "\n",
    "Будем искать \"близнецов\" среди получивших образование и неполучивших.\n",
    "\n",
    "#### Описать преимущества и недостатки"
   ]
  },
  {
   "cell_type": "code",
   "execution_count": 217,
   "id": "897cc76e",
   "metadata": {},
   "outputs": [
    {
     "name": "stdout",
     "output_type": "stream",
     "text": [
      "Оценка ATE методом PSM: 15.45\n"
     ]
    }
   ],
   "source": [
    "from sklearn.neighbors import NearestNeighbors\n",
    "\n",
    "\n",
    "treated_propensity_score = cb_probas_for_p_weights[treated_mask].reshape(-1, 1)\n",
    "not_treated_propensity_score = cb_probas_for_p_weights[not_treated_mask].reshape(-1, 1)\n",
    "\n",
    "nn = NearestNeighbors(n_neighbors=3).fit(not_treated_propensity_score)\n",
    "indices = nn.kneighbors(treated_propensity_score, return_distance=False)\n",
    "\n",
    "# Индексы matched control\n",
    "control_indices = np.where(not_treated_mask)[0]\n",
    "matched_control_indices = control_indices[indices.flatten()]\n",
    "\n",
    "y_treated = y_dml.values[treated_mask]\n",
    "y_matched = y_dml.values[matched_control_indices].reshape(len(y_treated), 3)\n",
    "\n",
    "\n",
    "ATE_hat_psm = (y_treated - y_matched.mean(axis=1)).mean()\n",
    "\n",
    "print(f\"Оценка ATE методом PSM: {ATE_hat_psm:.2f}\")"
   ]
  },
  {
   "cell_type": "markdown",
   "id": "7d16ebe2",
   "metadata": {},
   "source": [
    "#### Все результаты вместе"
   ]
  },
  {
   "cell_type": "code",
   "execution_count": 218,
   "id": "1b4410db",
   "metadata": {},
   "outputs": [
    {
     "data": {
      "text/html": [
       "<div>\n",
       "<style scoped>\n",
       "    .dataframe tbody tr th:only-of-type {\n",
       "        vertical-align: middle;\n",
       "    }\n",
       "\n",
       "    .dataframe tbody tr th {\n",
       "        vertical-align: top;\n",
       "    }\n",
       "\n",
       "    .dataframe thead th {\n",
       "        text-align: right;\n",
       "    }\n",
       "</style>\n",
       "<table border=\"1\" class=\"dataframe\">\n",
       "  <thead>\n",
       "    <tr style=\"text-align: right;\">\n",
       "      <th></th>\n",
       "      <th>ATE</th>\n",
       "    </tr>\n",
       "  </thead>\n",
       "  <tbody>\n",
       "    <tr>\n",
       "      <th>МНК</th>\n",
       "      <td>15.32</td>\n",
       "    </tr>\n",
       "    <tr>\n",
       "      <th>Метод условных мат. ожиданий</th>\n",
       "      <td>15.46</td>\n",
       "    </tr>\n",
       "    <tr>\n",
       "      <th>Метод взвешивания на вероятности (RandomForest)</th>\n",
       "      <td>14.28</td>\n",
       "    </tr>\n",
       "    <tr>\n",
       "      <th>Метод взвешивания на вероятности (CatBoost)</th>\n",
       "      <td>14.82</td>\n",
       "    </tr>\n",
       "    <tr>\n",
       "      <th>Метод взвешивания на вероятности (LogReg)</th>\n",
       "      <td>15.59</td>\n",
       "    </tr>\n",
       "    <tr>\n",
       "      <th>Метод двойной устойчивости (RandomForest)</th>\n",
       "      <td>15.42</td>\n",
       "    </tr>\n",
       "    <tr>\n",
       "      <th>Метод двойной устойчивости (CatBoost)</th>\n",
       "      <td>15.43</td>\n",
       "    </tr>\n",
       "    <tr>\n",
       "      <th>Метод двойной устойчивости (LogReg)</th>\n",
       "      <td>15.41</td>\n",
       "    </tr>\n",
       "    <tr>\n",
       "      <th>Метод Double ML (RF-RF)</th>\n",
       "      <td>14.48</td>\n",
       "    </tr>\n",
       "    <tr>\n",
       "      <th>Метод Double ML (CB-CB)</th>\n",
       "      <td>14.45</td>\n",
       "    </tr>\n",
       "    <tr>\n",
       "      <th>Метод Double ML (CB-LogReg)</th>\n",
       "      <td>14.42</td>\n",
       "    </tr>\n",
       "    <tr>\n",
       "      <th>Метод Double ML (LinReg-LogReg)</th>\n",
       "      <td>14.36</td>\n",
       "    </tr>\n",
       "    <tr>\n",
       "      <th>Метод PSM</th>\n",
       "      <td>15.45</td>\n",
       "    </tr>\n",
       "  </tbody>\n",
       "</table>\n",
       "</div>"
      ],
      "text/plain": [
       "                                                   ATE\n",
       "МНК                                              15.32\n",
       "Метод условных мат. ожиданий                     15.46\n",
       "Метод взвешивания на вероятности (RandomForest)  14.28\n",
       "Метод взвешивания на вероятности (CatBoost)      14.82\n",
       "Метод взвешивания на вероятности (LogReg)        15.59\n",
       "Метод двойной устойчивости (RandomForest)        15.42\n",
       "Метод двойной устойчивости (CatBoost)            15.43\n",
       "Метод двойной устойчивости (LogReg)              15.41\n",
       "Метод Double ML (RF-RF)                          14.48\n",
       "Метод Double ML (CB-CB)                          14.45\n",
       "Метод Double ML (CB-LogReg)                      14.42\n",
       "Метод Double ML (LinReg-LogReg)                  14.36\n",
       "Метод PSM                                        15.45"
      ]
     },
     "execution_count": 218,
     "metadata": {},
     "output_type": "execute_result"
    }
   ],
   "source": [
    "dct_for_ate_results = {'МНК': ATE_hat_ols, \n",
    "                       'Метод условных мат. ожиданий': ATE_hat_condexp, \n",
    "                       'Метод взвешивания на вероятности (RandomForest)': ATE_hat_pweights_rf, 'Метод взвешивания на вероятности (CatBoost)': ATE_hat_pweights_cb, 'Метод взвешивания на вероятности (LogReg)': ATE_hat_pweights_logreg, \n",
    "                       'Метод двойной устойчивости (RandomForest)': ATE_hat_dr_rf, 'Метод двойной устойчивости (CatBoost)': ATE_hat_dr_cb, 'Метод двойной устойчивости (LogReg)': ATE_hat_dr_logreg, \n",
    "                       'Метод Double ML (RF-RF)': ATE_hat_dml_rf_rf, 'Метод Double ML (CB-CB)': ATE_hat_dml_cb_cb, 'Метод Double ML (CB-LogReg)': ATE_hat_dml_cb_logreg, 'Метод Double ML (LinReg-LogReg)': ATE_hat_dml_linreg_logreg,\n",
    "                       'Метод PSM': ATE_hat_psm}\n",
    "\n",
    "ate_results_df = pd.DataFrame(data=dct_for_ate_results.values(), index=dct_for_ate_results.keys(), columns=['ATE'])\n",
    "round(ate_results_df, 2)"
   ]
  },
  {
   "cell_type": "markdown",
   "id": "835855cf",
   "metadata": {},
   "source": [
    "#### Сравнение методов"
   ]
  },
  {
   "cell_type": "markdown",
   "id": "c014afca",
   "metadata": {},
   "source": [
    "#### Интерпретация ATE"
   ]
  },
  {
   "cell_type": "markdown",
   "id": "d7156d94",
   "metadata": {},
   "source": [
    "### 5. Оцените локальный условный эффект воздействия с помощью:\n",
    "- двойного машинного обучения без инструментальной переменной.\n",
    "- двойного машинного обучения с инструментальной переменной.\n",
    "\n",
    "Сопоставьте результаты и объясните, в чем в вашем случае будет заключаться\n",
    "различие между средним эффектом воздействия и локальным средним эффек-\n",
    "том воздействия. Приведите содержательную экономическую интерпретацию\n",
    "оценки локального среднего эффекта воздействия.\n",
    "Повышенная сложность: воспользуйтесь также параметрической моделью,\n",
    "например, с помощью пакета switchSelection. Обсудите преимущества и недостатки такого подхода по сравнению с двойным машинным обучением. Обычный метод инструментальных переменных параметрическим подходом не считается."
   ]
  },
  {
   "cell_type": "markdown",
   "id": "b79618e7",
   "metadata": {},
   "source": [
    "#### Оценка LATE методом двойного машинного обучения без инструментальной переменной"
   ]
  },
  {
   "cell_type": "markdown",
   "id": "849ceb87",
   "metadata": {},
   "source": [
    "Оценивали в прошлых пунктах, получили смещение, как и ожидается"
   ]
  },
  {
   "cell_type": "markdown",
   "id": "b22929b8",
   "metadata": {},
   "source": [
    "#### Оценка LATE методом двойного машинного обучения с инструментальной переменной"
   ]
  },
  {
   "cell_type": "code",
   "execution_count": 231,
   "id": "b562be69",
   "metadata": {},
   "outputs": [
    {
     "name": "stdout",
     "output_type": "stream",
     "text": [
      "Оценка LATE методом DML(IV): 14.17\n"
     ]
    }
   ],
   "source": [
    "from econml.iv.dml import OrthoIV\n",
    "\n",
    "X_dml = df.loc[:, ['adhd', 'low_focus', 'text_complexity', 'age', 'reads_often', 'not_tired']]\n",
    "T_dml = df.loc[:, 'higher_edu']\n",
    "Z_dml = df.loc[:, 'far_from_uni']\n",
    "y_dml = df.loc[:, 'recall_score']\n",
    "\n",
    "model_iv = OrthoIV(\n",
    "    model_y_xw=RandomForestRegressor(),   # Y|X\n",
    "    model_t_xw=RandomForestClassifier(),  # D|X,Z\n",
    "    model_z_xw=RandomForestClassifier(),  # Z|X\n",
    "    discrete_treatment=True,\n",
    "    discrete_instrument=True\n",
    ")\n",
    "model_iv.fit(Y=y_dml, T=T_dml, Z=Z_dml, X=X_dml)\n",
    "\n",
    "late_dml = model_iv.effect(X_dml).mean()\n",
    "print(f\"Оценка LATE методом DML(IV): {late_dml:.2f}\")"
   ]
  },
  {
   "cell_type": "markdown",
   "id": "2de86a55",
   "metadata": {},
   "source": [
    "#### Интерпретация\n",
    "\n",
    "- Для нашего исследования ATE - это общий средний эффект от получения высшего образования, независимо от того, кем является человек: комплаером, always-taker'ом или never-taker'ом.\n",
    "- LATE - это оценка среднего эффекта на полученную оценку на тесте для тех респондентов, кто является комплаером - то есть если респондент жил в регионе с университетом из топ-100 рейтинга университетов, то он получил высшее образование. А если в регионе нет такого университета, то и образование он не получил. В жизни таких людей можно представить как тех, кто привязан к своему домашнему региону (но не обязательно таких) и если у них есть условия для получения высшего образования, то они идут его получать, а если нет, то не идут."
   ]
  },
  {
   "cell_type": "markdown",
   "id": "3cf4715a",
   "metadata": {},
   "source": [
    "#### Повышенный уровень сложности: эта модель есть в R, но нет в питоне.........."
   ]
  },
  {
   "cell_type": "markdown",
   "id": "09693540",
   "metadata": {},
   "source": [
    "### 6. Оцените условные средние эффекты воздействия с помощью:\n",
    "- метода наименьших квадратов\n",
    "- S-learner\n",
    "- T-learner\n",
    "- метода трансформации классов\n",
    "- X-learner\n",
    "\n",
    "Сравните результаты и обсудите, насколько в вашем случае мотивированы применение метода X-learner. Опишите, как можно было бы использовать полученные вами оценки в бизнесе или при реализации государственных программ.Повышенная сложность: включите дополнительный метод, не рассматривавшийся в курсе и опишите его принцип работы, а также преимущества и недостатки по сравнению с другими методами."
   ]
  },
  {
   "cell_type": "markdown",
   "id": "6b7b6128",
   "metadata": {},
   "source": [
    "#### Оценка CATE методом МНК\n",
    "\n",
    "Этот метод предполагает экзогенный тритмент, то есть отсутствие эндогенности в переменной $H_i$, но в нашем случае это неверная предпосылка. Тем не менее, оценим МНК для оценки CATE"
   ]
  },
  {
   "cell_type": "code",
   "execution_count": 295,
   "id": "0f19997c",
   "metadata": {},
   "outputs": [],
   "source": [
    "interactions = pd.DataFrame({f'higher_edu*{col}': T_dml * X_dml.loc[:, col] for col in ['adhd', 'low_focus', 'text_complexity', 'age', 'reads_often', 'not_tired']})\n",
    "\n",
    "regressors_for_ols = sm.add_constant(pd.concat([pd.Series(T_dml), pd.DataFrame(X_dml), interactions], axis=1))\n",
    "\n",
    "model = sm.OLS(y_dml, regressors_for_ols)\n",
    "results = model.fit()\n",
    "results.summary()\n",
    "\n",
    "# CATE(x) = coef_D + sum(coef_D_Xi * x_i)\n",
    "cate = results.params['higher_edu'] + X_dml @ results.params[interactions.columns].values"
   ]
  },
  {
   "cell_type": "code",
   "execution_count": 300,
   "id": "fa530960",
   "metadata": {},
   "outputs": [
    {
     "data": {
      "image/png": "[encoded data removed]",
      "text/plain": [
       "<Figure size 640x480 with 1 Axes>"
      ]
     },
     "metadata": {},
     "output_type": "display_data"
    }
   ],
   "source": [
    "cates_age_groups_OLS = []\n",
    "age_groups = {\n",
    "    'age 15-18': (15 <= X_dml['age']) & (X_dml['age'] <= 18),\n",
    "    'age 19-22': (19 <= X_dml['age']) & (X_dml['age'] <= 22),\n",
    "    'age 23-30': (23 <= X_dml['age']) & (X_dml['age'] <= 30),\n",
    "    'age 31-40': (31 <= X_dml['age']) & (X_dml['age'] <= 40),\n",
    "    'age 41-50': (41 <= X_dml['age']) & (X_dml['age'] <= 50),\n",
    "    'age 51-60': (51 <= X_dml['age']),\n",
    "}\n",
    "\n",
    "for age_group, age_mask in age_groups.items():\n",
    "    cates_age_groups_OLS.append(cate.loc[age_mask].mean())\n",
    "\n",
    "CATE_by_age_OLS = pd.DataFrame({'CATE': cates_age_groups_OLS,\n",
    "                            'age': age_groups.keys()})\n",
    "\n",
    "plt.plot(CATE_by_age_OLS['age'], CATE_by_age_OLS['CATE'], marker='o')\n",
    "\n",
    "plt.title('МНК оценка CATE для разного возраста');"
   ]
  },
  {
   "cell_type": "code",
   "execution_count": 301,
   "id": "ad4b88cf",
   "metadata": {},
   "outputs": [
    {
     "data": {
      "image/png": "[encoded data removed]",
      "text/plain": [
       "<Figure size 640x480 with 1 Axes>"
      ]
     },
     "metadata": {},
     "output_type": "display_data"
    }
   ],
   "source": [
    "cates_age = []\n",
    "ages = list(range(15, 61))\n",
    "for age in ages:\n",
    "    age_mask = X_dml['age'] == age\n",
    "    cates_age.append(cate.loc[age_mask].mean())\n",
    "\n",
    "CATE_by_age = pd.DataFrame({'CATE': cates_age,\n",
    "                            'age': ages})\n",
    "\n",
    "plt.plot(CATE_by_age['age'], CATE_by_age['CATE'], marker='o')\n",
    "\n",
    "plt.title('МНК оценка CATE для разного возраста');"
   ]
  },
  {
   "cell_type": "markdown",
   "id": "5e9cc04b",
   "metadata": {},
   "source": [
    "#### Оценка CATE методом S-Learner"
   ]
  },
  {
   "cell_type": "markdown",
   "id": "62a19358",
   "metadata": {},
   "source": [
    "#### Оценка CATE методом X-Learner"
   ]
  },
  {
   "cell_type": "markdown",
   "id": "c2f62d49",
   "metadata": {},
   "source": [
    "#### Оценка CATE методом Трансформации классов"
   ]
  },
  {
   "cell_type": "markdown",
   "id": "3a8b379b",
   "metadata": {},
   "source": [
    "#### Оценка CATE методом X-Learner"
   ]
  },
  {
   "cell_type": "markdown",
   "id": "c35909c2",
   "metadata": {},
   "source": []
  }
 ],
 "metadata": {
  "kernelspec": {
   "display_name": "Python 3",
   "language": "python",
   "name": "python3"
  },
  "language_info": {
   "codemirror_mode": {
    "name": "ipython",
    "version": 3
   },
   "file_extension": ".py",
   "mimetype": "text/x-python",
   "name": "python",
   "nbconvert_exporter": "python",
   "pygments_lexer": "ipython3",
   "version": "3.9.6"
  }
 },
 "nbformat": 4,
 "nbformat_minor": 5
}
